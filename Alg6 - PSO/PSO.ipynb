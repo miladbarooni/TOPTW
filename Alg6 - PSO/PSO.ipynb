{
 "cells": [
  {
   "cell_type": "code",
   "execution_count": 30,
   "metadata": {},
   "outputs": [],
   "source": [
    "import random\n",
    "import math\n",
    "import copy\n",
    "import time\n",
    "\n",
    "file_path = \"../Instances/c103.txt\" \n"
   ]
  },
  {
   "cell_type": "code",
   "execution_count": 31,
   "metadata": {},
   "outputs": [],
   "source": [
    "class Node:\n",
    "    def __init__(self, num, x, y, service_time, score, open_time, close_time):\n",
    "        self.num = num\n",
    "        self.x = x\n",
    "        self.y = y\n",
    "        self.service_time = service_time\n",
    "        self.open_time = open_time\n",
    "        self.close_time = close_time\n",
    "        self.score = score\n",
    "\n",
    "\n",
    "def is_feasible (tour, source):\n",
    "    t_current=0\n",
    "    t_max=source.close_time\n",
    "    current_vertex=source\n",
    "    # print(\"tour\", tour)\n",
    "    for i in range(len(tour)+1):\n",
    "        next_vertex= None\n",
    "        if i==len(tour):\n",
    "            next_vertex= source\n",
    "        else:\n",
    "            next_vertex=tour[i]\n",
    "        if max(t_current+math.dist([next_vertex.x,next_vertex.y],[current_vertex.x,current_vertex.y]),next_vertex.open_time)+next_vertex.service_time +math.dist([next_vertex.x,next_vertex.y],[source.x,source.y])>t_max:\n",
    "            return False\n",
    "        if (t_current + math.dist([next_vertex.x,next_vertex.y],[current_vertex.x,current_vertex.y]) <= next_vertex.close_time):\n",
    "                t_current = max(t_current +math.dist([next_vertex.x,next_vertex.y],[current_vertex.x,current_vertex.y]), next_vertex.open_time) + next_vertex.service_time;\n",
    "                current_vertex = next_vertex\n",
    "            \n",
    "        else: \n",
    "            return False\n",
    "    return True\n",
    "\n",
    "def calculate_score(solution, source):\n",
    "    score=0\n",
    "    for i in range(len(solution)):\n",
    "        tour=solution[i]\n",
    "        if is_feasible(tour, source):\n",
    "            for j in range (len(tour)):\n",
    "                score += tour[j].score\n",
    "    return score\n",
    "\n",
    "def solution_to_num(solution):\n",
    "    solution_in_num = [[obj.num for obj in inner_list] for inner_list in solution]\n",
    "    return solution_in_num\n",
    "\n",
    "def tour_to_num(tour):\n",
    "    tour_in_num = [obj.num for obj in tour]\n",
    "    return tour_in_num"
   ]
  },
  {
   "cell_type": "code",
   "execution_count": 32,
   "metadata": {},
   "outputs": [],
   "source": [
    "def euclidian_distance(first_node: Node, second_node: Node):\n",
    "    return math.dist([first_node.x, first_node.y], [second_node.x, second_node.y])\n",
    "\n",
    "def random_initial_solution(nodes, team_number):\n",
    "    solution = []\n",
    "    candidate = copy.deepcopy(nodes)\n",
    "    source = nodes[0]\n",
    "    t_max = source.close_time\n",
    "    candidate.pop(0)\n",
    "    \n",
    "    for i in range(team_number):\n",
    "        t_current = 0.0\n",
    "        tour = []\n",
    "        current_vertex = source\n",
    "        counter = 0\n",
    "        \n",
    "        while len(candidate) > 0:\n",
    "            random_candidate = random.randint(0, len(candidate) - 1)\n",
    "            next_vertex = candidate[random_candidate]\n",
    "            \n",
    "            if (max(t_current + euclidian_distance(next_vertex, current_vertex), next_vertex.open_time) +\n",
    "                    next_vertex.service_time + euclidian_distance(next_vertex, source)) > t_max:\n",
    "                break\n",
    "            \n",
    "            if t_current + euclidian_distance(next_vertex, current_vertex) <= next_vertex.close_time:\n",
    "                t_current = max(t_current + euclidian_distance(next_vertex, current_vertex),\n",
    "                                next_vertex.open_time) + next_vertex.service_time\n",
    "                tour.append(next_vertex)\n",
    "                current_vertex = next_vertex\n",
    "                candidate.pop(random_candidate)\n",
    "            else:\n",
    "                if counter == 30:\n",
    "                    break\n",
    "                else:\n",
    "                    counter += 1\n",
    "                    continue\n",
    "        \n",
    "        solution.append(tour)\n",
    "    \n",
    "    return solution\n"
   ]
  },
  {
   "cell_type": "code",
   "execution_count": 33,
   "metadata": {},
   "outputs": [
    {
     "data": {
      "text/plain": [
       "1810.0"
      ]
     },
     "execution_count": 33,
     "metadata": {},
     "output_type": "execute_result"
    }
   ],
   "source": [
    "\n",
    "\n",
    "\n",
    "lines = []\n",
    "\n",
    "with open(file_path, 'r') as file:\n",
    "    for line in file:\n",
    "        lines.append(line.rstrip())\n",
    "\n",
    "\n",
    "k, v, N, t = map(int, lines[0].split())\n",
    "# v = 3\n",
    "nodes = []\n",
    "optimal_score = 0\n",
    "for i, line in enumerate(lines[2:]):\n",
    "    line_list = line.split()\n",
    "    num = int(line_list[0])\n",
    "    x = float(line_list[1])\n",
    "    y = float(line_list[2])\n",
    "    service_time = float(line_list[3])\n",
    "    score = float(line_list[4])\n",
    "    open_time = int(line_list[-2]) if lines.index(line) != 2 else 0\n",
    "    close_time = int(line_list[-1]) if lines.index(line) != 2 else int(line_list[-1])\n",
    "    node = Node(num, x, y, service_time, score, open_time, close_time)\n",
    "    nodes.append(node)\n",
    "    optimal_score+=score\n",
    "source = nodes[0]\n",
    "optimal_score\n"
   ]
  },
  {
   "cell_type": "code",
   "execution_count": 34,
   "metadata": {},
   "outputs": [
    {
     "data": {
      "text/plain": [
       "100"
      ]
     },
     "execution_count": 34,
     "metadata": {},
     "output_type": "execute_result"
    }
   ],
   "source": [
    "N"
   ]
  },
  {
   "cell_type": "code",
   "execution_count": 35,
   "metadata": {},
   "outputs": [
    {
     "data": {
      "text/plain": [
       "10"
      ]
     },
     "execution_count": 35,
     "metadata": {},
     "output_type": "execute_result"
    }
   ],
   "source": [
    "v"
   ]
  },
  {
   "cell_type": "code",
   "execution_count": 36,
   "metadata": {},
   "outputs": [],
   "source": [
    "initial_population = []\n",
    "population_size = 100\n",
    "for i in range(population_size):\n",
    "    random_member = random_initial_solution(nodes, v)\n",
    "    initial_population.append(random_member)\n",
    "p_best_w = 10\n",
    "g_best_w = 30"
   ]
  },
  {
   "cell_type": "code",
   "execution_count": 37,
   "metadata": {},
   "outputs": [],
   "source": [
    "def repair_tour_in_solution(solution, index):\n",
    "    tour = solution[index]\n",
    "    tour_size = len(tour)\n",
    "    \n",
    "    for j in range(len(solution)):\n",
    "        i = 0\n",
    "        while i < tour_size:   \n",
    "            if j != index and tour[i].num in tour_to_num(solution[j]):\n",
    "                tour.pop(i)\n",
    "\n",
    "                i -= 1\n",
    "                tour_size -= 1\n",
    "            i += 1\n",
    "    solution[index] = tour\n",
    "    return solution\n",
    "\n",
    "def mutation_insert(solution, index):\n",
    "    candidate = copy.deepcopy(nodes)\n",
    "    candidate.pop(0)\n",
    "    for i in range(len(solution)):\n",
    "        for j in range(len(solution[i])):\n",
    "                k = 0\n",
    "                candidate_size = len(candidate)\n",
    "                while k < candidate_size:\n",
    "                    if candidate[k].num == solution[i][j].num:\n",
    "                        candidate.pop(k)\n",
    "                        break\n",
    "                    k += 1\n",
    "    tour = solution[index]\n",
    "    random.shuffle(candidate)\n",
    "    can_insert = False\n",
    "    list_of_index = [i for i in range(len(tour)+1)] \n",
    "    random.shuffle(list_of_index)\n",
    "    for i in random.choices(list_of_index, k=10):\n",
    "        for j in range(len(candidate)):\n",
    "            tour.insert(i, candidate[j])\n",
    "            if is_feasible(tour, source):\n",
    "                can_insert = True\n",
    "                break\n",
    "            else:\n",
    "                tour.pop(i)\n",
    "        if can_insert:\n",
    "            break\n",
    "    return solution\n",
    "\n",
    "def mutation_remove(solution, index):\n",
    "    tour = solution[index]\n",
    "    if len(tour) <= 1 :\n",
    "        return solution\n",
    "    random_index = random.randint(0, len(tour)-1)\n",
    "    tour.pop(random_index)\n",
    "    return solution\n",
    "\n",
    "def mutation_swap(solution, index):\n",
    "    tour = solution[index]\n",
    "    can_swap = 0\n",
    "    for i in range(len(tour)):\n",
    "        for j in range(i, len(tour)):\n",
    "            tour[i], tour[j] = tour[j], tour[i]\n",
    "            if not is_feasible(tour, source):\n",
    "                tour[i], tour[j] = tour[j], tour[i]\n",
    "            else:\n",
    "                can_swap += 1\n",
    "                break\n",
    "        if can_swap == 1:\n",
    "            break\n",
    "    return solution\n",
    "\n",
    "def cross_over_and_mutation(first, second, third):\n",
    "    current_solution = copy.deepcopy(first)\n",
    "    p_best = copy.deepcopy(second)\n",
    "    g_best = copy.deepcopy(third)\n",
    "    for i in range(len(current_solution)):\n",
    "        uniform_probability = random.uniform(0, 1)\n",
    "        random_tour_index = random.randint(0, len(current_solution)-1)\n",
    "        current_solution = mutation_swap(current_solution, random_tour_index)\n",
    "        if uniform_probability >= 0.2:\n",
    "            current_solution = mutation_insert(current_solution, random_tour_index)\n",
    "        else:\n",
    "            \n",
    "            current_solution = mutation_remove(current_solution, random_tour_index)\n",
    "\n",
    "    for i in range(int((p_best_w/100)*v)):\n",
    "        first_index = random.randint(0, v-1)\n",
    "        second_index = random.randint(0, v-1)\n",
    "\n",
    "        current_solution[first_index], p_best[second_index] = p_best[second_index], current_solution[first_index]\n",
    "\n",
    "        current_solution = repair_tour_in_solution(current_solution, first_index)\n",
    "        p_best = repair_tour_in_solution(p_best, second_index)\n",
    "\n",
    "    for i in range(int((g_best_w/100)*v)):\n",
    "        first_index = random.randint(0, v-1)\n",
    "        second_index = random.randint(0, v-1)\n",
    "\n",
    "        current_solution[first_index], g_best[second_index] = g_best[second_index], current_solution[first_index]\n",
    "\n",
    "        current_solution = repair_tour_in_solution(current_solution, first_index)\n",
    "        g_best = repair_tour_in_solution(g_best, second_index)\n",
    "\n",
    "\n",
    "    return current_solution\n",
    "\n"
   ]
  },
  {
   "cell_type": "code",
   "execution_count": 38,
   "metadata": {},
   "outputs": [
    {
     "data": {
      "text/plain": [
       "1190.0"
      ]
     },
     "execution_count": 38,
     "metadata": {},
     "output_type": "execute_result"
    }
   ],
   "source": [
    "max_iteration = 5000\n",
    "g_best = None\n",
    "g_best_score = 0\n",
    "for i in range(len(initial_population)):\n",
    "    solution_score = calculate_score(initial_population[i], source)\n",
    "    if solution_score > g_best_score:\n",
    "        g_best_score = solution_score\n",
    "        g_best = initial_population[i]\n",
    "p_best = [initial_population[i] for i in range(population_size)]\n",
    "g_best_score"
   ]
  },
  {
   "cell_type": "code",
   "execution_count": 39,
   "metadata": {},
   "outputs": [],
   "source": [
    "\n",
    "scores = []\n",
    "population = copy.deepcopy(initial_population)\n",
    "t_end = time.time() + 60\n",
    "for i in range(max_iteration):\n",
    "    if time.time() > t_end:\n",
    "        break\n",
    "    new_population = []\n",
    "    for j in range(population_size):\n",
    "        p_best_j = p_best[j]\n",
    "        new_solution = cross_over_and_mutation(population[j], p_best_j, g_best)\n",
    "        new_solution_score = calculate_score(new_solution, source)\n",
    "        if new_solution_score >= g_best_score:\n",
    "            g_best_score = new_solution_score\n",
    "            g_best = new_solution\n",
    "        if new_solution_score > calculate_score(p_best_j, source):\n",
    "            p_best[j] = new_solution\n",
    "        new_population.append(new_solution)\n",
    "    population = copy.deepcopy(new_population)\n",
    "    # pool = new_population + population\n",
    "    # pool.sort(key=lambda i:calculate_score(i, source), reverse=True)\n",
    "    # best_score = calculate_score(pool[0], source)\n",
    "    # best_solution = pool[0]\n",
    "    # scores.append(best_score)\n",
    "    # if (i+1) % 10 == 0:\n",
    "    #     print(i+1, \" \", calculate_score(pool[0], source))\n",
    "    # population = pool[:int(0.7*population_size)] + random.choices(pool[int(0.7*population_size):], k=int(0.3*population_size))\n"
   ]
  },
  {
   "cell_type": "code",
   "execution_count": 40,
   "metadata": {},
   "outputs": [
    {
     "name": "stdout",
     "output_type": "stream",
     "text": [
      "[[13, 15, 29, 73, 50, 86, 89], [18, 58, 91, 52, 59, 7, 2], [40, 22, 14], [93, 61, 23, 72, 32], [46, 63, 98, 84, 95, 4, 51, 54, 31], [28, 33, 64], [3, 25, 53, 11, 1, 66, 97, 20], [85, 70, 39, 43, 94, 81], [92, 57, 88, 12, 34, 37], [60, 75, 62, 99, 69, 16]]\n",
      "1230.0\n"
     ]
    }
   ],
   "source": [
    "# solution_to_num(population[0])\n",
    "print(solution_to_num(g_best))\n",
    "print(calculate_score(g_best, source))"
   ]
  },
  {
   "cell_type": "code",
   "execution_count": 28,
   "metadata": {},
   "outputs": [
    {
     "name": "stdout",
     "output_type": "stream",
     "text": [
      "True\n",
      "True\n",
      "True\n",
      "True\n",
      "True\n",
      "True\n",
      "True\n",
      "True\n",
      "True\n",
      "True\n"
     ]
    }
   ],
   "source": [
    "for tour in g_best:\n",
    "    print(is_feasible(tour, source))"
   ]
  },
  {
   "cell_type": "code",
   "execution_count": 12,
   "metadata": {},
   "outputs": [],
   "source": [
    "# import matplotlib.pyplot as plt\n",
    "# plt.plot([i for i in range(len(scores))],scores)"
   ]
  },
  {
   "cell_type": "code",
   "execution_count": 13,
   "metadata": {},
   "outputs": [
    {
     "name": "stdout",
     "output_type": "stream",
     "text": [
      "0 42 54 53 56 58 88 68 52 59 0\n",
      "0 90 87 84 77 79 80 12 0\n",
      "0 13 86 27 16 21 82 49 0\n",
      "0 81 41 40 29 38 6 4 96 85 0\n",
      "0 33 8 15 94 99 22 72 26 0\n",
      "0 20 24 25 10 30 39 36 95 69 37 0\n",
      "0 32 63 62 1 11 97 100 31 34 0\n",
      "0 43 98 92 7 5 89 3 91 47 0\n",
      "0 18 74 46 28 83 66 2 48 0\n",
      "0 67 44 93 64 51 50 75 0\n"
     ]
    }
   ],
   "source": [
    "for tour in g_best:\n",
    "    each_tour = \"0 \"\n",
    "    for node in tour:\n",
    "        each_tour += str(node.num) + \" \"\n",
    "    each_tour += \"0\"\n",
    "    print(each_tour)\n"
   ]
  },
  {
   "cell_type": "code",
   "execution_count": 14,
   "metadata": {},
   "outputs": [
    {
     "name": "stdout",
     "output_type": "stream",
     "text": [
      "there is no duplicate node\n",
      "tour 1 is feasible: True\n",
      "tour 2 is feasible: True\n",
      "tour 3 is feasible: True\n",
      "tour 4 is feasible: True\n",
      "tour 5 is feasible: True\n",
      "tour 6 is feasible: True\n",
      "tour 7 is feasible: True\n",
      "tour 8 is feasible: True\n",
      "tour 9 is feasible: True\n",
      "tour 10 is feasible: True\n",
      "score: 1550.0\n"
     ]
    }
   ],
   "source": [
    "res_line = []\n",
    "with open(\"output.txt\", 'r') as file:\n",
    "    for line in file:\n",
    "        res_line.append(line.rstrip())\n",
    "res_solution = []\n",
    "all_res_node = []\n",
    "for line in res_line:\n",
    "    tour = []\n",
    "    for node_id in line.split()[1:-1]:\n",
    "        tour.append(nodes[int(node_id)])\n",
    "        all_res_node.append(int(node_id))\n",
    "    res_solution.append(tour)\n",
    "if len(all_res_node) != len(set(all_res_node)):\n",
    "    print(\"there is duplicate node\")\n",
    "else:\n",
    "    print(\"there is no duplicate node\")\n",
    "for i in range(len(res_solution)):\n",
    "    print(f\"tour {i+1} is feasible: {is_feasible(res_solution[i], source)}\")\n",
    "print(f\"score: {calculate_score(res_solution, source)}\")"
   ]
  },
  {
   "cell_type": "code",
   "execution_count": null,
   "metadata": {},
   "outputs": [],
   "source": []
  }
 ],
 "metadata": {
  "kernelspec": {
   "display_name": "logistic",
   "language": "python",
   "name": "python3"
  },
  "language_info": {
   "codemirror_mode": {
    "name": "ipython",
    "version": 3
   },
   "file_extension": ".py",
   "mimetype": "text/x-python",
   "name": "python",
   "nbconvert_exporter": "python",
   "pygments_lexer": "ipython3",
   "version": "3.10.6"
  }
 },
 "nbformat": 4,
 "nbformat_minor": 2
}
