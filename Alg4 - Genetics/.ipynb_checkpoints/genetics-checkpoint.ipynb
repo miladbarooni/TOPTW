{
 "cells": [
  {
   "cell_type": "code",
   "execution_count": 242,
   "metadata": {},
   "outputs": [],
   "source": [
    "import os\n",
    "import sys\n",
    "import random\n",
    "import math\n",
    "import copy\n",
    "from joblib import Parallel, delayed\n",
    "file_path = \"../TestInstance3/3-pr18.txt\" \n",
    "import time\n",
    "import concurrent.futures\n"
   ]
  },
  {
   "cell_type": "code",
   "execution_count": 243,
   "metadata": {},
   "outputs": [],
   "source": [
    "class Node:\n",
    "    def __init__(self, num, x, y, service_time, score, open_time, close_time):\n",
    "        self.num = num\n",
    "        self.x = x\n",
    "        self.y = y\n",
    "        self.service_time = service_time\n",
    "        self.open_time = open_time\n",
    "        self.close_time = close_time\n",
    "        self.score = score\n",
    "\n",
    "\n",
    "def is_feasible (tour, source):\n",
    "    t_current=0\n",
    "    t_max=source.close_time\n",
    "    current_vertex=source\n",
    "    # print(\"tour\", tour)\n",
    "    for i in range(len(tour)+1):\n",
    "        next_vertex= None\n",
    "        if i==len(tour):\n",
    "            next_vertex= source\n",
    "        else:\n",
    "            next_vertex=tour[i]\n",
    "        if max(t_current+math.dist([next_vertex.x,next_vertex.y],[current_vertex.x,current_vertex.y]),next_vertex.open_time)+next_vertex.service_time +math.dist([next_vertex.x,next_vertex.y],[source.x,source.y])>t_max:\n",
    "            return False\n",
    "        if (t_current + math.dist([next_vertex.x,next_vertex.y],[current_vertex.x,current_vertex.y]) <= next_vertex.close_time):\n",
    "                t_current = max(t_current +math.dist([next_vertex.x,next_vertex.y],[current_vertex.x,current_vertex.y]), next_vertex.open_time) + next_vertex.service_time;\n",
    "                current_vertex = next_vertex\n",
    "            \n",
    "        else: \n",
    "            return False\n",
    "    return True\n",
    "\n",
    "def calculate_score(solution, source):\n",
    "    score=0\n",
    "    for i in range(len(solution)):\n",
    "        tour=solution[i]\n",
    "        if is_feasible(tour, source):\n",
    "            for j in range (len(tour)):\n",
    "                score += tour[j].score\n",
    "    return score\n",
    "\n",
    "def solution_to_num(solution):\n",
    "    solution_in_num = [[obj.num for obj in inner_list] for inner_list in solution]\n",
    "    return solution_in_num\n",
    "\n",
    "def tour_to_num(tour):\n",
    "    tour_in_num = [obj.num for obj in tour]\n",
    "    return tour_in_num"
   ]
  },
  {
   "cell_type": "code",
   "execution_count": 244,
   "metadata": {},
   "outputs": [],
   "source": [
    "def euclidian_distance(first_node: Node, second_node: Node):\n",
    "    return math.dist([first_node.x, first_node.y], [second_node.x, second_node.y])\n",
    "\n",
    "def random_initial_solution(nodes, team_number):\n",
    "    solution = []\n",
    "    candidate = copy.deepcopy(nodes)\n",
    "    source = nodes[0]\n",
    "    t_max = source.close_time\n",
    "    candidate.pop(0)\n",
    "    \n",
    "    for i in range(team_number):\n",
    "        t_current = 0.0\n",
    "        tour = []\n",
    "        current_vertex = source\n",
    "        counter = 0\n",
    "        \n",
    "        while len(candidate) > 0:\n",
    "            random_candidate = random.randint(0, len(candidate) - 1)\n",
    "            next_vertex = candidate[random_candidate]\n",
    "            \n",
    "            if (max(t_current + euclidian_distance(next_vertex, current_vertex), next_vertex.open_time) +\n",
    "                    next_vertex.service_time + euclidian_distance(next_vertex, source)) > t_max:\n",
    "                break\n",
    "            \n",
    "            if t_current + euclidian_distance(next_vertex, current_vertex) <= next_vertex.close_time:\n",
    "                t_current = max(t_current + euclidian_distance(next_vertex, current_vertex),\n",
    "                                next_vertex.open_time) + next_vertex.service_time\n",
    "                tour.append(next_vertex)\n",
    "                current_vertex = next_vertex\n",
    "                candidate.pop(random_candidate)\n",
    "            else:\n",
    "                if counter == 30:\n",
    "                    break\n",
    "                else:\n",
    "                    counter += 1\n",
    "                    continue\n",
    "        \n",
    "        solution.append(tour)\n",
    "    \n",
    "    return solution\n"
   ]
  },
  {
   "cell_type": "code",
   "execution_count": 245,
   "metadata": {},
   "outputs": [
    {
     "data": {
      "text/plain": [
       "2006.0"
      ]
     },
     "execution_count": 245,
     "metadata": {},
     "output_type": "execute_result"
    }
   ],
   "source": [
    "\n",
    "\n",
    "\n",
    "lines = []\n",
    "\n",
    "with open(file_path, 'r') as file:\n",
    "    for line in file:\n",
    "        lines.append(line.rstrip())\n",
    "\n",
    "\n",
    "k, v, N, t = map(int, lines[0].split())\n",
    "v = 4\n",
    "nodes = []\n",
    "optimal_score = 0\n",
    "for i, line in enumerate(lines[2:]):\n",
    "    line_list = line.split()\n",
    "    num = int(line_list[0])\n",
    "    x = float(line_list[1])\n",
    "    y = float(line_list[2])\n",
    "    service_time = float(line_list[3])\n",
    "    score = float(line_list[4])\n",
    "    open_time = int(line_list[-2]) if lines.index(line) != 2 else 0\n",
    "    close_time = int(line_list[-1]) if lines.index(line) != 2 else int(line_list[-1])\n",
    "    node = Node(num, x, y, service_time, score, open_time, close_time)\n",
    "    nodes.append(node)\n",
    "    optimal_score+=score\n",
    "source = nodes[0]\n",
    "optimal_score\n"
   ]
  },
  {
   "cell_type": "code",
   "execution_count": 246,
   "metadata": {},
   "outputs": [
    {
     "data": {
      "text/plain": [
       "144"
      ]
     },
     "execution_count": 246,
     "metadata": {},
     "output_type": "execute_result"
    }
   ],
   "source": [
    "# initial_solution = random_initial_solution(nodes, v)\n",
    "# print(print_solution_num(initial_solution))\n",
    "# calculate_score(initial_solution, source)\n",
    "\n",
    "N"
   ]
  },
  {
   "cell_type": "code",
   "execution_count": 247,
   "metadata": {},
   "outputs": [],
   "source": [
    "initial_population = []\n",
    "population_size = 50\n",
    "for i in range(population_size):\n",
    "#     print(i)\n",
    "    random_member = random_initial_solution(nodes, v)\n",
    "    initial_population.append(random_member)"
   ]
  },
  {
   "cell_type": "code",
   "execution_count": 248,
   "metadata": {},
   "outputs": [],
   "source": [
    "def repair_tour_in_solution(solution, index):\n",
    "    tour = solution[index]\n",
    "    tour_size = len(tour)\n",
    "    \n",
    "    for j in range(len(solution)):\n",
    "        i = 0\n",
    "        while i < tour_size:   \n",
    "            if j != index and tour[i].num in tour_to_num(solution[j]):\n",
    "                tour.pop(i)\n",
    "\n",
    "                i -= 1\n",
    "                tour_size -= 1\n",
    "            i += 1\n",
    "    solution[index] = tour\n",
    "    return solution\n",
    "\n",
    "def mutation_insert(solution, index):\n",
    "    candidate = copy.deepcopy(nodes)\n",
    "    candidate.pop(0)\n",
    "    for i in range(len(solution)):\n",
    "        for j in range(len(solution[i])):\n",
    "                k = 0\n",
    "                candidate_size = len(candidate)\n",
    "                while k < candidate_size:\n",
    "                    if candidate[k].num == solution[i][j].num:\n",
    "                        candidate.pop(k)\n",
    "                        break\n",
    "                    k += 1\n",
    "    tour = solution[index]\n",
    "    random.shuffle(candidate)\n",
    "    can_insert = False\n",
    "    list_of_index = [i for i in range(len(tour)+1)] \n",
    "    random.shuffle(list_of_index)\n",
    "    for i in random.choices(list_of_index, k=3):\n",
    "        for j in range(len(candidate)):\n",
    "            tour.insert(i, candidate[j])\n",
    "            if is_feasible(tour, source):\n",
    "                can_insert = True\n",
    "                break\n",
    "            else:\n",
    "                tour.pop(i)\n",
    "        if can_insert:\n",
    "            break\n",
    "    return solution\n",
    "\n",
    "def mutation_remove(solution, index):\n",
    "    tour = solution[index]\n",
    "    if len(tour) <= 1 :\n",
    "        return solution\n",
    "    random_index = random.randint(0, len(tour)-1)\n",
    "    tour.pop(random_index)\n",
    "    return solution\n",
    "\n",
    "def mutation_swap(solution, index):\n",
    "    tour = solution[index]\n",
    "    can_swap = 0\n",
    "    for i in range(len(tour)):\n",
    "        for j in range(i, len(tour)):\n",
    "            tour[i], tour[j] = tour[j], tour[i]\n",
    "            if not is_feasible(tour, source):\n",
    "                tour[i], tour[j] = tour[j], tour[i]\n",
    "            else:\n",
    "                can_swap += 1\n",
    "                break\n",
    "        if can_swap == 1:\n",
    "            break\n",
    "    return solution\n",
    "\n",
    "def cross_over_and_mutation(first, second, iteration):\n",
    "    first_solution = copy.deepcopy(first)\n",
    "    second_solution = copy.deepcopy(second)\n",
    "    \n",
    "    first_index = random.randint(0, v-1)\n",
    "    second_index = random.randint(0, v-1)\n",
    "\n",
    "    first_solution[first_index], second_solution[second_index] = second_solution[second_index], first_solution[first_index]\n",
    "\n",
    "    first_solution = repair_tour_in_solution(first_solution, first_index)\n",
    "    second_solution = repair_tour_in_solution(second_solution, second_index)\n",
    "    \n",
    "#     first_index = random.randint(0, v-1)\n",
    "#     second_index = random.randint(0, v-1)\n",
    "\n",
    "#     first_solution[first_index], second_solution[second_index] = second_solution[second_index], first_solution[first_index]\n",
    "\n",
    "#     first_solution = repair_tour_in_solution(first_solution, first_index)\n",
    "#     second_solution = repair_tour_in_solution(second_solution, second_index)\n",
    "\n",
    "    \n",
    "    for i in range(len(first_solution)):\n",
    "        uniform_probability = random.uniform(0, 1)\n",
    "        random_tour_index = random.randint(0, len(first_solution)-1)\n",
    "        first_solution = mutation_swap(first_solution, random_tour_index)\n",
    "        if uniform_probability >= 0.4:\n",
    "            first_solution = mutation_insert(first_solution, random_tour_index)\n",
    "        else:\n",
    "            \n",
    "            first_solution = mutation_remove(first_solution, random_tour_index)\n",
    "    \n",
    "    for i in range(len(second_solution)):\n",
    "        uniform_probability = random.uniform(0, 1)\n",
    "        random_tour_index = random.randint(0, len(second_solution)-1)\n",
    "        second_solution = mutation_swap(second_solution, random_tour_index)\n",
    "        if uniform_probability >= 0.4:\n",
    "            second_solution = mutation_insert(second_solution, random_tour_index)\n",
    "        else:\n",
    "            second_solution = mutation_remove(second_solution, random_tour_index)\n",
    "    \n",
    "    \n",
    "    return [first_solution, second_solution]\n",
    "\n",
    "\n",
    "def cross_over(first, second):\n",
    "    first_solution = copy.deepcopy(first)\n",
    "    second_solution = copy.deepcopy(second)\n",
    "    \n",
    "    first_index = random.randint(0, v-1)\n",
    "    print(first_index)\n",
    "    second_index = random.randint(0, v-1)\n",
    "    print(second_index)\n",
    "    # first_index = 0\n",
    "    # second_index = 1\n",
    "    first_solution[first_index], second_solution[second_index] = second_solution[second_index], first_solution[first_index]\n",
    "    repair_tour_in_solution(first_solution, first_index)\n",
    "    repair_tour_in_solution(second_solution, second_index)\n",
    "    \n",
    "    return [first_solution, second_solution]\n",
    "\n"
   ]
  },
  {
   "cell_type": "code",
   "execution_count": 249,
   "metadata": {
    "scrolled": false
   },
   "outputs": [
    {
     "name": "stdout",
     "output_type": "stream",
     "text": [
      "10   777.0\n",
      "20   879.0\n",
      "30   919.0\n",
      "40   1001.0\n",
      "50   1027.0\n",
      "60   1038.0\n",
      "70   1068.0\n",
      "80   1081.0\n",
      "90   1091.0\n",
      "100   1144.0\n",
      "110   1156.0\n",
      "120   1156.0\n",
      "130   1156.0\n",
      "140   1163.0\n",
      "150   1185.0\n",
      "160   1185.0\n",
      "170   1191.0\n",
      "180   1209.0\n",
      "190   1209.0\n",
      "200   1209.0\n",
      "210   1216.0\n",
      "220   1216.0\n",
      "230   1216.0\n",
      "240   1216.0\n",
      "250   1216.0\n",
      "260   1216.0\n",
      "270   1216.0\n",
      "280   1216.0\n",
      "290   1216.0\n",
      "300   1216.0\n",
      "310   1216.0\n",
      "320   1216.0\n",
      "330   1216.0\n",
      "340   1216.0\n",
      "350   1219.0\n",
      "360   1219.0\n",
      "370   1219.0\n",
      "380   1219.0\n",
      "390   1219.0\n",
      "400   1219.0\n",
      "410   1219.0\n",
      "420   1219.0\n"
     ]
    }
   ],
   "source": [
    "def generate_new_population(population):\n",
    "    first_solution_index = random.randint(0, population_size-1)\n",
    "    second_solution_index = random.randint(0, population_size-1)\n",
    "    while second_solution_index == first_solution_index:\n",
    "        second_solution_index = random.randint(0, population_size-1)\n",
    "    \n",
    "    return cross_over_and_mutation(population[first_solution_index], population[second_solution_index])\n",
    "num_threads = 100\n",
    "max_iteration = 50000\n",
    "scores = []\n",
    "population = copy.deepcopy(initial_population)\n",
    "t_end = time.time() + 300\n",
    "for i in range(max_iteration):\n",
    "    if time.time() > t_end:\n",
    "        break\n",
    "    # population.sort(key=lambda i:calculate_score(i, source), reverse=True)\n",
    "    # print(i, \" \", calculate_score(population[0], source))\n",
    "    new_population = []\n",
    "    for j in range(population_size):\n",
    "        \n",
    "        first_solution_index = random.randint(0, population_size-1)\n",
    "        second_solution_index = random.randint(0, population_size-1)\n",
    "        while second_solution_index == first_solution_index:\n",
    "            second_solution_index = random.randint(0, population_size-1)\n",
    "        \n",
    "        new_population += cross_over_and_mutation(population[first_solution_index], population[second_solution_index], i)\n",
    "    # results = Parallel(n_jobs=4)(delayed(generate_new_population)(population) for i in range(100))\n",
    "    \n",
    "    # with concurrent.futures.ThreadPoolExecutor(max_workers=num_threads) as executor:\n",
    "    #     # Submit each item to the executor\n",
    "    #     futures = [executor.submit(generate_new_population, population) for i in range(100)]\n",
    "    #     # Wait for all futures to complete\n",
    "    #     concurrent.futures.wait(futures)\n",
    "    # # print(futures[0].result())\n",
    "    # # print(len(futures))\n",
    "    # # print(len(results[0]))\n",
    "    # new_population = []\n",
    "    # for j in range(len(futures)):\n",
    "    #     new_population += futures[j].result()\n",
    "    \n",
    "    pool = new_population + population\n",
    "    # for i in range(le)\n",
    "    pool.sort(key=lambda i:calculate_score(i, source), reverse=True)\n",
    "    best_score = calculate_score(pool[0], source)\n",
    "    best_solution = pool[0]\n",
    "    scores.append(best_score)\n",
    "    if (i+1) % 10 == 0:\n",
    "        print(i+1, \" \", calculate_score(pool[0], source))\n",
    "    population = pool[:int(0.7*population_size)] + random.choices(pool[int(0.7*population_size):], k=int(0.3*population_size))\n",
    "#     print(len(population))\n",
    "        # print(solution_to_num(population[first_solution_index]))\n",
    "\n",
    "        # print(solution_to_num(population[second_solution_index]))\n",
    "        # print(solution_to_num(new_population[0]))\n",
    "\n",
    "        # print(solution_to_num(new_population[1]))\n",
    "\n",
    "    \n",
    "        "
   ]
  },
  {
   "cell_type": "code",
   "execution_count": 250,
   "metadata": {},
   "outputs": [],
   "source": [
    "population.sort(key=lambda i:calculate_score(i, source), reverse=True)\n",
    "# best_solution = population[0]"
   ]
  },
  {
   "cell_type": "code",
   "execution_count": 251,
   "metadata": {},
   "outputs": [
    {
     "data": {
      "text/plain": [
       "[[44, 106, 8, 113, 109, 34, 140, 129, 39, 141, 20, 130, 98, 92, 61],\n",
       " [13, 114, 75, 59, 45, 33, 43, 24, 55, 77, 108, 83, 21, 138, 14, 107],\n",
       " [54, 71, 17, 124, 58, 100, 60, 2, 30, 48, 41, 64, 56, 28, 133, 23, 50, 35],\n",
       " [68,\n",
       "  125,\n",
       "  15,\n",
       "  32,\n",
       "  6,\n",
       "  87,\n",
       "  37,\n",
       "  76,\n",
       "  85,\n",
       "  1,\n",
       "  136,\n",
       "  36,\n",
       "  112,\n",
       "  135,\n",
       "  46,\n",
       "  144,\n",
       "  72,\n",
       "  99,\n",
       "  47,\n",
       "  127]]"
      ]
     },
     "execution_count": 251,
     "metadata": {},
     "output_type": "execute_result"
    }
   ],
   "source": [
    "solution_to_num(population[0])"
   ]
  },
  {
   "cell_type": "code",
   "execution_count": 252,
   "metadata": {},
   "outputs": [
    {
     "name": "stdout",
     "output_type": "stream",
     "text": [
      "True\n",
      "True\n",
      "True\n",
      "True\n"
     ]
    }
   ],
   "source": [
    "for tour in best_solution:\n",
    "    print(is_feasible(tour, source))"
   ]
  },
  {
   "cell_type": "code",
   "execution_count": 253,
   "metadata": {},
   "outputs": [
    {
     "data": {
      "text/plain": [
       "[<matplotlib.lines.Line2D at 0x7f01dddcddf0>]"
      ]
     },
     "execution_count": 253,
     "metadata": {},
     "output_type": "execute_result"
    },
    {
     "data": {
      "image/png": "[encoded data removed]",
      "text/plain": [
       "<Figure size 640x480 with 1 Axes>"
      ]
     },
     "metadata": {},
     "output_type": "display_data"
    }
   ],
   "source": [
    "import matplotlib.pyplot as plt\n",
    "plt.plot([i for i in range(len(scores))],scores)"
   ]
  },
  {
   "cell_type": "code",
   "execution_count": 254,
   "metadata": {},
   "outputs": [
    {
     "name": "stdout",
     "output_type": "stream",
     "text": [
      "0 44 106 8 113 109 34 140 129 39 141 20 130 98 92 61 0\n",
      "0 13 114 75 59 45 33 43 24 55 77 108 83 21 138 14 107 0\n",
      "0 54 71 17 124 58 100 60 2 30 48 41 64 56 28 133 23 50 35 0\n",
      "0 68 125 15 32 6 87 37 76 85 1 136 36 112 135 46 144 72 99 47 127 0\n"
     ]
    }
   ],
   "source": [
    "for tour in best_solution:\n",
    "    each_tour = \"0 \"\n",
    "    for node in tour:\n",
    "        each_tour += str(node.num) + \" \"\n",
    "    each_tour += \"0\"\n",
    "    print(each_tour)\n"
   ]
  },
  {
   "cell_type": "code",
   "execution_count": 232,
   "metadata": {},
   "outputs": [
    {
     "data": {
      "text/plain": [
       "1146.0"
      ]
     },
     "execution_count": 232,
     "metadata": {},
     "output_type": "execute_result"
    }
   ],
   "source": [
    "best_score"
   ]
  },
  {
   "cell_type": "code",
   "execution_count": 233,
   "metadata": {},
   "outputs": [
    {
     "data": {
      "text/plain": [
       "157"
      ]
     },
     "execution_count": 233,
     "metadata": {},
     "output_type": "execute_result"
    }
   ],
   "source": [
    "i"
   ]
  },
  {
   "cell_type": "code",
   "execution_count": 152,
   "metadata": {},
   "outputs": [
    {
     "name": "stdout",
     "output_type": "stream",
     "text": [
      "there is no duplicate node\n",
      "tour 1 is feasible: False\n",
      "tour 2 is feasible: False\n",
      "tour 3 is feasible: False\n",
      "tour 4 is feasible: False\n",
      "tour 5 is feasible: True\n",
      "tour 6 is feasible: True\n",
      "score: 0\n"
     ]
    }
   ],
   "source": [
    "res_line = []\n",
    "with open(\"out3.txt\", 'r') as file:\n",
    "    for line in file:\n",
    "        res_line.append(line.rstrip())\n",
    "res_solution = []\n",
    "all_res_node = []\n",
    "for line in res_line:\n",
    "    tour = []\n",
    "    for node_id in line.split()[1:-1]:\n",
    "        tour.append(nodes[int(node_id)])\n",
    "        all_res_node.append(int(node_id))\n",
    "    res_solution.append(tour)\n",
    "if len(all_res_node) != len(set(all_res_node)):\n",
    "    print(\"there is duplicate node\")\n",
    "else:\n",
    "    print(\"there is no duplicate node\")\n",
    "for i in range(len(res_solution)):\n",
    "    print(f\"tour {i+1} is feasible: {is_feasible(res_solution[i], source)}\")\n",
    "print(f\"score: {calculate_score(res_solution, source)}\")"
   ]
  },
  {
   "cell_type": "code",
   "execution_count": null,
   "metadata": {},
   "outputs": [],
   "source": []
  },
  {
   "cell_type": "code",
   "execution_count": null,
   "metadata": {},
   "outputs": [],
   "source": []
  }
 ],
 "metadata": {
  "kernelspec": {
   "display_name": "Python 3 (ipykernel)",
   "language": "python",
   "name": "python3"
  },
  "language_info": {
   "codemirror_mode": {
    "name": "ipython",
    "version": 3
   },
   "file_extension": ".py",
   "mimetype": "text/x-python",
   "name": "python",
   "nbconvert_exporter": "python",
   "pygments_lexer": "ipython3",
   "version": "3.9.15"
  }
 },
 "nbformat": 4,
 "nbformat_minor": 2
}
